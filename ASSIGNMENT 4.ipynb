{
 "cells": [
  {
   "cell_type": "code",
   "execution_count": 1,
   "id": "4180546f",
   "metadata": {},
   "outputs": [
    {
     "name": "stdout",
     "output_type": "stream",
     "text": [
      "Select operation.\n",
      "1.Add\n",
      "2.Subtract\n",
      "3.Multiply\n",
      "4.Divide\n",
      "Enter choice(1/2/3/4): 4\n",
      "Enter first number: 67\n",
      "Enter second number: 8\n",
      "67.0 / 8.0 = 8.375\n",
      "THANKYOU FOR YOUR TIME\n"
     ]
    }
   ],
   "source": [
    "#1. Make a calculator using Python with addition , subtraction ,multiplication ,division and power.\n",
    "\n",
    "# This function adds two numbers\n",
    "def add(x, y):\n",
    "    return x + y\n",
    "\n",
    "# This function subtracts two numbers\n",
    "def subtract(x, y):\n",
    "    return x - y\n",
    "\n",
    "# This function multiplies two numbers\n",
    "def multiply(x, y):\n",
    "    return x * y\n",
    "\n",
    "# This function divides two numbers\n",
    "def divide(x, y):\n",
    "    return x / y\n",
    "\n",
    "\n",
    "print(\"Select operation.\")\n",
    "print(\"1.Add\")\n",
    "print(\"2.Subtract\")\n",
    "print(\"3.Multiply\")\n",
    "print(\"4.Divide\")\n",
    "\n",
    "while True:\n",
    "    # take input from the user\n",
    "    choice = input(\"Enter choice(1/2/3/4): \")\n",
    "\n",
    "    # check if choice is one of the four options\n",
    "    if choice in ('1', '2', '3', '4'):\n",
    "        num1 = float(input(\"Enter first number: \"))\n",
    "        num2 = float(input(\"Enter second number: \"))\n",
    "\n",
    "        if choice == '1':\n",
    "            print(num1, \"+\", num2, \"=\", add(num1, num2))\n",
    "\n",
    "        elif choice == '2':\n",
    "            print(num1, \"-\", num2, \"=\", subtract(num1, num2))\n",
    "\n",
    "        elif choice == '3':\n",
    "            print(num1, \"*\", num2, \"=\", multiply(num1, num2))\n",
    "\n",
    "        elif choice == '4':\n",
    "            print(num1, \"/\", num2, \"=\", divide(num1, num2))\n",
    "            print(\"THANKYOU FOR YOUR TIME\")\n",
    "            break"
   ]
  },
  {
   "cell_type": "code",
   "execution_count": 2,
   "id": "ee03d4a3",
   "metadata": {},
   "outputs": [
    {
     "name": "stdout",
     "output_type": "stream",
     "text": [
      "Not Found\n",
      "Found an integer!\n",
      "Not Found\n",
      "Found an integer!\n",
      "Found an integer!\n",
      " \n"
     ]
    }
   ],
   "source": [
    "#2.Write a program to check if there is any numeric value in list using for loop\n",
    "mylist = [ \"orange\",'67', 'red', '11', '22'] \n",
    "for i in mylist: \n",
    "     try: \n",
    "         mylist = int(i) \n",
    "         print('Found an integer!') \n",
    "     except: \n",
    "         print(\"Not Found\")\n",
    "print(\" \")"
   ]
  },
  {
   "cell_type": "code",
   "execution_count": 3,
   "id": "218601bb",
   "metadata": {},
   "outputs": [
    {
     "name": "stdout",
     "output_type": "stream",
     "text": [
      "username : XYZ\n",
      "email :  yhg6@gmail.com\n",
      "location :  Karachi\n"
     ]
    }
   ],
   "source": [
    "#3.Write a Python script to add a key to a dictionary.\n",
    "my_dict = {\"username\": \"XYZ\", \"email\": \"yhg6@gmail.com\", \"location\":\"Karachi\"}\n",
    "print(\"username :\", my_dict['username'])\n",
    "print(\"email : \", my_dict[\"email\"])\n",
    "print(\"location : \", my_dict[\"location\"])"
   ]
  },
  {
   "cell_type": "code",
   "execution_count": 4,
   "id": "66f56b0f",
   "metadata": {},
   "outputs": [
    {
     "name": "stdout",
     "output_type": "stream",
     "text": [
      "Dictionary:  {'x': 1220, 'y': 5000, 'z': 4670}\n",
      "\n",
      "Sum of Values:  10890\n"
     ]
    }
   ],
   "source": [
    "#4.Write a Python program to sum all the numeric items in a dictionary.\n",
    "Dict = {'x': 1220, 'y':5000, 'z':4670}\n",
    "print(\"Dictionary: \", Dict)\n",
    "\n",
    "# Print Values using get\n",
    "print(\"\\nSum of Values: \", sum(Dict.values()))"
   ]
  },
  {
   "cell_type": "code",
   "execution_count": 5,
   "id": "73f1c994",
   "metadata": {},
   "outputs": [
    {
     "name": "stdout",
     "output_type": "stream",
     "text": [
      "Enter a Number;5\n",
      "Not Repeat\n",
      "Not Repeat\n",
      "Not Repeat\n",
      "Not Repeat\n",
      "1 Times Repeat\n",
      "Not Repeat\n",
      "Not Repeat\n",
      "Not Repeat\n",
      "Not Repeat\n",
      "2 Times Repeat\n",
      "Not Repeat\n"
     ]
    }
   ],
   "source": [
    "#5. Write a program to identify duplicate values from list.\n",
    "count = 0\n",
    "q=int(input(\"Enter a Number;\"))\n",
    "mylist = [6,7,9,0,5,4,2,1,3,5,6]\n",
    "for c in mylist:\n",
    "    if c==q:\n",
    "     count = count+1\n",
    "     print(count ,\"Times Repeat\")\n",
    "    else:\n",
    "     print(\"Not Repeat\")"
   ]
  },
  {
   "cell_type": "code",
   "execution_count": 6,
   "id": "03278c5d",
   "metadata": {},
   "outputs": [
    {
     "name": "stdout",
     "output_type": "stream",
     "text": [
      "Present,  value = 200\n"
     ]
    }
   ],
   "source": [
    "#6.Write a Python script to check if a given key already exists in a dictionary.\n",
    "def checkKey(dict, key):\n",
    "      \n",
    "    if key in dict.keys():\n",
    "        print(\"Present, \", end =\" \")\n",
    "        print(\"value =\", dict[key])\n",
    "    else:\n",
    "        print(\"Not present\")\n",
    "dict = {'a': 100, 'b':200, 'c':300}\n",
    "  \n",
    "key = 'b'\n",
    "checkKey(dict, key)\n",
    "  \n",
    "#key = 'w'\n",
    "#checkKey(dict, key)"
   ]
  },
  {
   "cell_type": "code",
   "execution_count": null,
   "id": "784bf9a6",
   "metadata": {},
   "outputs": [],
   "source": []
  }
 ],
 "metadata": {
  "kernelspec": {
   "display_name": "Python 3",
   "language": "python",
   "name": "python3"
  },
  "language_info": {
   "codemirror_mode": {
    "name": "ipython",
    "version": 3
   },
   "file_extension": ".py",
   "mimetype": "text/x-python",
   "name": "python",
   "nbconvert_exporter": "python",
   "pygments_lexer": "ipython3",
   "version": "3.8.8"
  }
 },
 "nbformat": 4,
 "nbformat_minor": 5
}
